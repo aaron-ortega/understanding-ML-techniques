{
 "cells": [
  {
   "cell_type": "code",
   "execution_count": 1,
   "metadata": {},
   "outputs": [],
   "source": [
    "import numpy as np\n",
    "import matplotlib.pyplot as plt\n",
    "import seaborn as sns; sns.set_style('ticks')\n",
    "%matplotlib inline"
   ]
  },
  {
   "cell_type": "code",
   "execution_count": 2,
   "metadata": {},
   "outputs": [],
   "source": [
    "from sklearn import linear_model, datasets"
   ]
  },
  {
   "cell_type": "code",
   "execution_count": 3,
   "metadata": {},
   "outputs": [],
   "source": [
    "diabetes = datasets.load_diabetes()  # load dataset"
   ]
  },
  {
   "cell_type": "markdown",
   "metadata": {},
   "source": [
    "### scikit learn method"
   ]
  },
  {
   "cell_type": "code",
   "execution_count": 4,
   "metadata": {},
   "outputs": [],
   "source": [
    "diabetes_X = diabetes.data[:, np.newaxis, 2]  # reshape to column vector\n",
    "\n",
    "# train data\n",
    "train_X = diabetes_X[:-20]\n",
    "test_X = diabetes_X[-20:]\n",
    "\n",
    "# test data\n",
    "train_y = diabetes.target[:-20]\n",
    "test_y = diabetes.target[-20:]\n",
    "\n",
    "'''\n",
    "alpha - the regularization parameter for Ridge\n",
    "    Bias-Variance Tradeoff\n",
    "    Good: Larger values specify stronger regularization => reduces the variance of the estimates \n",
    "    Bad:  Larger values specify stronger regularization => increases the bias of the estimates (shrinks R-squared)\n",
    "'''\n",
    "# NOTE (to self):\n",
    "# hyper parameter (a parameter whose value is set before the learning process begins)\n",
    "alphas = np.linspace(1e-4, 5, 20)\n",
    "\n",
    "model = linear_model.Ridge()\n",
    "model_r_squares = []\n",
    "for alpha in alphas:\n",
    "    model_r_squares.append(model\n",
    "                           .set_params(alpha=alpha)\n",
    "                           .fit(train_X, train_y)\n",
    "                           .score(test_X, test_y)  # calculates R-square\n",
    "                          )"
   ]
  },
  {
   "cell_type": "markdown",
   "metadata": {},
   "source": [
    "The purpose behind regularization and"
   ]
  },
  {
   "cell_type": "code",
   "execution_count": 6,
   "metadata": {
    "scrolled": true
   },
   "outputs": [],
   "source": [
    "scratch_model_r_squares = []\n",
    "for alpha in alphas:\n",
    "    \n",
    "    # find parameters (betas)\n",
    "    reg_matrix = alpha * np.ones(train_X.shape) # regularization matrix\n",
    "    fit_params = np.linalg.pinv(train_X.T @ train_X + reg_matrix.T @ reg_matrix) @ train_X.T @ train_y\n",
    "    \n",
    "    # fit parameters & make model\n",
    "    y_int = fit_params * train_X.T.mean() + train_y.mean()\n",
    "    y_hat = fit_params * test_X.ravel() + y_int\n",
    "    \n",
    "    # measure R-square\n",
    "    coef = 1 - np.var(test_y - y_hat) / np.var(test_y)\n",
    "    \n",
    "    # save coef\n",
    "    scratch_model_r_squares.append(coef)"
   ]
  },
  {
   "cell_type": "code",
   "execution_count": 7,
   "metadata": {
    "scrolled": false
   },
   "outputs": [
    {
     "name": "stdout",
     "output_type": "stream",
     "text": [
      "R-square as alpha increases:\n",
      "\n",
      "\tScikit-learn\tScratch Model\n",
      "Alphas\tR-squares\tR-squares\n",
      "0.0001\t0.4726\t\t0.5396\n",
      "0.2633\t0.4060\t\t0.0297\n",
      "0.5264\t0.3432\t\t0.0077\n",
      "0.7896\t0.2899\t\t0.0034\n",
      "1.0527\t0.2457\t\t0.0019\n",
      "1.3159\t0.2090\t\t0.0012\n",
      "1.5790\t0.1781\t\t0.0009\n",
      "1.8422\t0.1519\t\t0.0006\n",
      "2.1053\t0.1294\t\t0.0005\n",
      "2.3685\t0.1099\t\t0.0004\n",
      "2.6316\t0.0929\t\t0.0003\n",
      "2.8948\t0.0780\t\t0.0003\n",
      "3.1579\t0.0647\t\t0.0002\n",
      "3.4211\t0.0529\t\t0.0002\n",
      "3.6842\t0.0423\t\t0.0002\n",
      "3.9474\t0.0327\t\t0.0001\n",
      "4.2105\t0.0240\t\t0.0001\n",
      "4.4737\t0.0160\t\t0.0001\n",
      "4.7368\t0.0088\t\t0.0001\n",
      "5.0000\t0.0021\t\t0.0001\n"
     ]
    }
   ],
   "source": [
    "print(\"R-square as alpha increases:\\n\")\n",
    "print(\"\\tScikit-learn\\tScratch Model\")\n",
    "print('Alphas\\tR-squares\\tR-squares')\n",
    "for a, sci, scratch in zip(alphas, model_r_squares, scratch_model_r_squares):\n",
    "    print(f'{a:.4f}\\t{sci:.4f}\\t\\t{scratch:.4f}')"
   ]
  },
  {
   "cell_type": "code",
   "execution_count": 10,
   "metadata": {},
   "outputs": [
    {
     "data": {
      "image/png": "[encoded data removed]",
      "text/plain": [
       "<Figure size 480x320 with 1 Axes>"
      ]
     },
     "metadata": {},
     "output_type": "display_data"
    }
   ],
   "source": [
    "plt.figure(dpi=80)\n",
    "plt.plot(alphas, model_r_squares, 'o-', label='scikit-learn model')\n",
    "plt.plot(alphas, scratch_model_r_squares, 'o-', label='scratch model')\n",
    "plt.xlabel(r'$\\alpha$-values')\n",
    "plt.ylabel('Coefficient of Determination')\n",
    "plt.legend()\n",
    "plt.show()"
   ]
  },
  {
   "cell_type": "code",
   "execution_count": null,
   "metadata": {},
   "outputs": [],
   "source": []
  }
 ],
 "metadata": {
  "kernelspec": {
   "display_name": "Python 3",
   "language": "python",
   "name": "python3"
  },
  "language_info": {
   "codemirror_mode": {
    "name": "ipython",
    "version": 3
   },
   "file_extension": ".py",
   "mimetype": "text/x-python",
   "name": "python",
   "nbconvert_exporter": "python",
   "pygments_lexer": "ipython3",
   "version": "3.6.3"
  }
 },
 "nbformat": 4,
 "nbformat_minor": 2
}
