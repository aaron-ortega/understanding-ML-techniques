{
 "cells": [
  {
   "cell_type": "code",
   "execution_count": 1,
   "metadata": {},
   "outputs": [],
   "source": [
    "import numpy as np\n",
    "import matplotlib.pyplot as plt\n",
    "import seaborn as sns; sns.set_style('ticks')\n",
    "%matplotlib inline"
   ]
  },
  {
   "cell_type": "code",
   "execution_count": 2,
   "metadata": {},
   "outputs": [],
   "source": [
    "from sklearn import linear_model, datasets"
   ]
  },
  {
   "cell_type": "code",
   "execution_count": 3,
   "metadata": {},
   "outputs": [],
   "source": [
    "diabetes = datasets.load_diabetes()  # load dataset"
   ]
  },
  {
   "cell_type": "code",
   "execution_count": 4,
   "metadata": {},
   "outputs": [],
   "source": [
    "diabetes_X = diabetes.data[:, np.newaxis, 2]  # reshape to column vector\n",
    "\n",
    "# train data\n",
    "train_X = diabetes_X[:-20]\n",
    "test_X = diabetes_X[-20:]\n",
    "\n",
    "# test data\n",
    "train_y = diabetes.target[:-20]\n",
    "test_y = diabetes.target[-20:]\n",
    "\n",
    "'''\n",
    "alpha - the regularization parameter for Ridge\n",
    "    Bias-Variance Tradeoff\n",
    "    Good: Larger values specify stronger regularization => reduces the variance of the estimates \n",
    "    Bad:  Larger values specify stronger regularization => increases the bias of the estimates (shrinks R-square)\n",
    "'''\n",
    "\n",
    "alphas = np.logspace(0.1, 2, 10)\n",
    "\n",
    "model = linear_model.Ridge()\n",
    "model_r_squares = []\n",
    "for alpha in alphas:\n",
    "    model_r_squares.append(model\n",
    "                           .set_params(alpha=alpha)\n",
    "                           .fit(train_X, train_y)\n",
    "                           .score(test_X, test_y)\n",
    "                          )"
   ]
  },
  {
   "cell_type": "code",
   "execution_count": 8,
   "metadata": {
    "scrolled": true
   },
   "outputs": [
    {
     "name": "stdout",
     "output_type": "stream",
     "text": [
      "R-square as alpha increases:\n",
      "\n",
      "Alphas\tR-squares\n",
      "1.259\t0.216\n",
      "2.047\t0.134\n",
      "3.328\t0.057\n",
      "5.412\t-0.007\n",
      "8.799\t-0.056\n",
      "14.307\t-0.090\n",
      "23.263\t-0.113\n",
      "37.825\t-0.128\n",
      "61.502\t-0.137\n",
      "100.000\t-0.143\n"
     ]
    }
   ],
   "source": [
    "print(\"R-square as alpha increases:\\n\")\n",
    "print('Alphas\\tR-squares')\n",
    "for a, r in zip(alphas, model_r_squares):\n",
    "    print(f'{a:.3f}\\t{r:.3f}')"
   ]
  },
  {
   "cell_type": "code",
   "execution_count": null,
   "metadata": {},
   "outputs": [],
   "source": []
  },
  {
   "cell_type": "code",
   "execution_count": null,
   "metadata": {},
   "outputs": [],
   "source": []
  }
 ],
 "metadata": {
  "kernelspec": {
   "display_name": "Python 3",
   "language": "python",
   "name": "python3"
  },
  "language_info": {
   "codemirror_mode": {
    "name": "ipython",
    "version": 3
   },
   "file_extension": ".py",
   "mimetype": "text/x-python",
   "name": "python",
   "nbconvert_exporter": "python",
   "pygments_lexer": "ipython3",
   "version": "3.6.3"
  }
 },
 "nbformat": 4,
 "nbformat_minor": 2
}
