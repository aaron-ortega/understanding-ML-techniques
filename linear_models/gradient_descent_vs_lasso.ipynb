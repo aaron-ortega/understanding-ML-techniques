{
 "cells": [
  {
   "cell_type": "code",
   "execution_count": 1,
   "metadata": {},
   "outputs": [],
   "source": [
    "import numpy as np\n",
    "import matplotlib.pyplot as plt\n",
    "import seaborn as sns; sns.set_style('ticks')\n",
    "%matplotlib inline"
   ]
  },
  {
   "cell_type": "code",
   "execution_count": 2,
   "metadata": {},
   "outputs": [],
   "source": [
    "from sklearn import linear_model, datasets"
   ]
  },
  {
   "cell_type": "code",
   "execution_count": 3,
   "metadata": {},
   "outputs": [],
   "source": [
    "diabetes = datasets.load_diabetes()  # load dataset"
   ]
  },
  {
   "cell_type": "markdown",
   "metadata": {},
   "source": [
    "### scikit learn method\n",
    "http://scikit-learn.org/stable/modules/generated/sklearn.linear_model.Lasso.html#sklearn.linear_model.Lasso"
   ]
  },
  {
   "cell_type": "code",
   "execution_count": 4,
   "metadata": {},
   "outputs": [
    {
     "data": {
      "text/plain": [
       "Lasso(alpha=0.1, copy_X=True, fit_intercept=True, max_iter=1000,\n",
       "   normalize=False, positive=False, precompute=False, random_state=None,\n",
       "   selection='cyclic', tol=0.0001, warm_start=False)"
      ]
     },
     "execution_count": 4,
     "metadata": {},
     "output_type": "execute_result"
    }
   ],
   "source": [
    "diabetes_X = diabetes.data[:, np.newaxis, 2]  # reshape to column vector\n",
    "\n",
    "# train data\n",
    "train_X = diabetes_X[:-20]\n",
    "test_X = diabetes_X[-20:]\n",
    "\n",
    "# test data\n",
    "train_y = diabetes.target[:-20][:, np.newaxis]\n",
    "test_y = diabetes.target[-20:][:, np.newaxis]\n",
    "\n",
    "# design model\n",
    "reg = linear_model.Lasso(alpha = 0.1)\n",
    "\n",
    "# estimate parameters\n",
    "reg.fit(train_X, train_y)\n"
   ]
  },
  {
   "cell_type": "code",
   "execution_count": 5,
   "metadata": {},
   "outputs": [],
   "source": [
    "alphas = np.linspace(1e-4, 5, 20)"
   ]
  },
  {
   "cell_type": "markdown",
   "metadata": {},
   "source": [
    "## A quick explanation for LASSO regression analysis"
   ]
  },
  {
   "cell_type": "markdown",
   "metadata": {},
   "source": [
    "The loss function is the property we want to minimize (i.e. Mean Square Error (MSE))."
   ]
  },
  {
   "cell_type": "markdown",
   "metadata": {},
   "source": [
    "Good reference\n",
    "\n",
    "http://ozzieliu.com/2016/02/09/gradient-descent-tutorial/"
   ]
  },
  {
   "cell_type": "code",
   "execution_count": 6,
   "metadata": {},
   "outputs": [],
   "source": [
    "# add a column of ones to solve for y-intercept (beta-naught)\n",
    "\n",
    "column_ones = np.ones((train_X.shape))\n",
    "train_X = np.hstack((column_ones, train_X))"
   ]
  },
  {
   "cell_type": "code",
   "execution_count": 7,
   "metadata": {},
   "outputs": [
    {
     "data": {
      "text/plain": [
       "(422, 2)"
      ]
     },
     "execution_count": 7,
     "metadata": {},
     "output_type": "execute_result"
    }
   ],
   "source": [
    "train_X.shape"
   ]
  },
  {
   "cell_type": "code",
   "execution_count": 8,
   "metadata": {},
   "outputs": [],
   "source": [
    "def loss_function(y_true, y_hat):\n",
    "    '''\n",
    "    Calculate the loss function J(beta) (in this case MSE) of some estimated parameters\n",
    "    under a Lasso Regression analysis.\n",
    "    \n",
    "    J(beta) = (1/2m) * sum((y - X * betas) ** 2)\n",
    "    \n",
    "    where the sum runs from 1 to the number of beta parameters (i.e. len(y))\n",
    "    '''\n",
    "    #m = len(y_true)\n",
    "    \n",
    "    # calculate residuals\n",
    "    residuals = y_true - y_hat\n",
    "\n",
    "    # calculate loss for param\n",
    "    loss =  np.mean(np.square(residuals)) / 2\n",
    "    \n",
    "    return loss"
   ]
  },
  {
   "cell_type": "code",
   "execution_count": 9,
   "metadata": {},
   "outputs": [],
   "source": [
    "def gradient_descent(X, y, learning_rate=0.1, tol=0.001, max_iter=int(1e5)):\n",
    "    '''\n",
    "    \n",
    "    '''\n",
    "    \n",
    "    # initialize\n",
    "    m = len(y)\n",
    "    loss_diff = 1\n",
    "    iter_ = 0\n",
    "    loss_history = np.zeros(max_iter)\n",
    "    \n",
    "    # random starting point for descent\n",
    "    beta = np.array([[100],[100]])\n",
    "    \n",
    "    while (loss_diff > tol) and (iter_ < max_iter):\n",
    "        \n",
    "        # calculate residuals\n",
    "        y_hat = np.dot(X, beta)\n",
    "        res = y_hat - y\n",
    "        \n",
    "        # calculate next parameter estimate\n",
    "        gradient = np.dot(X.T, res) / m\n",
    "        beta = beta - learning_rate * gradient\n",
    "        \n",
    "        # calculate loss\n",
    "        y_hat = X.dot(beta) \n",
    "        loss = loss_function(y, y_hat)\n",
    "        \n",
    "        # update stop conditions\n",
    "        iter_ +=1\n",
    "        loss_history[iter_] = loss\n",
    "        loss_diff = abs(loss_history[iter_] - loss_history[iter_ - 1])\n",
    "        \n",
    "    return beta, loss_history, iter_"
   ]
  },
  {
   "cell_type": "code",
   "execution_count": 10,
   "metadata": {
    "scrolled": true
   },
   "outputs": [],
   "source": [
    "coef, loss_history, iters = gradient_descent(train_X, train_y)"
   ]
  },
  {
   "cell_type": "markdown",
   "metadata": {},
   "source": [
    "## Model Comparison\n",
    "Both models converge at the same"
   ]
  },
  {
   "cell_type": "code",
   "execution_count": 11,
   "metadata": {},
   "outputs": [
    {
     "data": {
      "text/plain": [
       "'%.3f'"
      ]
     },
     "execution_count": 11,
     "metadata": {},
     "output_type": "execute_result"
    }
   ],
   "source": [
    "%precision 3"
   ]
  },
  {
   "cell_type": "code",
   "execution_count": 12,
   "metadata": {},
   "outputs": [
    {
     "name": "stdout",
     "output_type": "stream",
     "text": [
      "Estimated coefficients\n",
      "\n",
      "Scikit-learn\t\t\t\tScratch Model\n",
      "(152.9397438303491, 894.080996097091)\t[152.94  894.089]\n"
     ]
    }
   ],
   "source": [
    "print('Estimated coefficients\\n')\n",
    "print(\"Scikit-learn\\t\\t\\t\\tScratch Model\")\n",
    "print(f'{reg.intercept_[0], reg.coef_[0]}\\t{coef[:,0]}')"
   ]
  },
  {
   "cell_type": "code",
   "execution_count": 13,
   "metadata": {
    "scrolled": false
   },
   "outputs": [
    {
     "data": {
      "image/png": "[encoded data removed]",
      "text/plain": [
       "<Figure size 540x360 with 1 Axes>"
      ]
     },
     "metadata": {},
     "output_type": "display_data"
    }
   ],
   "source": [
    "plt.figure(dpi=90)\n",
    "plt.plot(test_X, (coef[0] + test_X * coef[1]), label='scikit-learn model')\n",
    "plt.plot(test_X, (reg.intercept_ + test_X * reg.coef_), label='scratch GD model')\n",
    "plt.scatter(test_X, test_y, label='test data', alpha=0.4)\n",
    "plt.legend()\n",
    "plt.show()"
   ]
  },
  {
   "cell_type": "code",
   "execution_count": 14,
   "metadata": {},
   "outputs": [
    {
     "name": "stdout",
     "output_type": "stream",
     "text": [
      "Iterations before converging:\n",
      "\n",
      "Scikit-learn\t\tScratch Model\n",
      "2\t\t\t12997\n"
     ]
    }
   ],
   "source": [
    "print('Iterations before converging:\\n')\n",
    "print(\"Scikit-learn\\t\\tScratch Model\")\n",
    "print(f'{reg.n_iter_}\\t\\t\\t{iters}')"
   ]
  },
  {
   "cell_type": "code",
   "execution_count": 15,
   "metadata": {},
   "outputs": [
    {
     "data": {
      "image/png": "[encoded data removed]",
      "text/plain": [
       "<Figure size 540x360 with 1 Axes>"
      ]
     },
     "metadata": {},
     "output_type": "display_data"
    }
   ],
   "source": [
    "plt.figure(dpi=90)\n",
    "plt.plot(np.linspace(0, iters, iters), loss_history[1:iters+1], color='orange', label='Scratch GD Model')\n",
    "plt.yscale(\"log\")\n",
    "plt.xlabel('iterations')\n",
    "plt.ylabel('loss')\n",
    "plt.title('Loss function (MSE) in Lasso Regression')\n",
    "plt.legend()\n",
    "plt.show()\n"
   ]
  },
  {
   "cell_type": "code",
   "execution_count": null,
   "metadata": {},
   "outputs": [],
   "source": []
  },
  {
   "cell_type": "code",
   "execution_count": null,
   "metadata": {},
   "outputs": [],
   "source": []
  }
 ],
 "metadata": {
  "kernelspec": {
   "display_name": "Python 3",
   "language": "python",
   "name": "python3"
  },
  "language_info": {
   "codemirror_mode": {
    "name": "ipython",
    "version": 3
   },
   "file_extension": ".py",
   "mimetype": "text/x-python",
   "name": "python",
   "nbconvert_exporter": "python",
   "pygments_lexer": "ipython3",
   "version": "3.6.3"
  }
 },
 "nbformat": 4,
 "nbformat_minor": 2
}
