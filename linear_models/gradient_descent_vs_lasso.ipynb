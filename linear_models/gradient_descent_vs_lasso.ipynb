{
 "cells": [
  {
   "cell_type": "markdown",
   "metadata": {},
   "source": [
    "The previous linear regression used ordinary least squares (OLS). Now we use Gradient descent to find a more optimal approach  for parameter estimation.\n",
    "\n",
    "I decide to use compare it to LASSO, since it uses a form of gradient descent ([Coordinate Descent](https://en.wikipedia.org/wiki/Coordinate_descent)) to converge at an answer. Let's see what we get."
   ]
  },
  {
   "cell_type": "code",
   "execution_count": 1,
   "metadata": {},
   "outputs": [],
   "source": [
    "import numpy as np\n",
    "import matplotlib.pyplot as plt\n",
    "import seaborn as sns; sns.set_style('ticks')\n",
    "%matplotlib inline"
   ]
  },
  {
   "cell_type": "code",
   "execution_count": 2,
   "metadata": {},
   "outputs": [],
   "source": [
    "from sklearn import linear_model, datasets"
   ]
  },
  {
   "cell_type": "code",
   "execution_count": 3,
   "metadata": {},
   "outputs": [],
   "source": [
    "diabetes = datasets.load_diabetes()  # load dataset"
   ]
  },
  {
   "cell_type": "markdown",
   "metadata": {},
   "source": [
    "### scikit learn method\n",
    "http://scikit-learn.org/stable/modules/generated/sklearn.linear_model.Lasso.html#sklearn.linear_model.Lasso"
   ]
  },
  {
   "cell_type": "code",
   "execution_count": 4,
   "metadata": {},
   "outputs": [
    {
     "data": {
      "text/plain": [
       "Lasso(alpha=0.1, copy_X=True, fit_intercept=True, max_iter=1000,\n",
       "   normalize=False, positive=False, precompute=False, random_state=None,\n",
       "   selection='cyclic', tol=0.0001, warm_start=False)"
      ]
     },
     "execution_count": 4,
     "metadata": {},
     "output_type": "execute_result"
    }
   ],
   "source": [
    "diabetes_X = diabetes.data[:, np.newaxis, 2]  # reshape to column vector\n",
    "\n",
    "# train data\n",
    "train_X = diabetes_X[:-20]\n",
    "test_X = diabetes_X[-20:]\n",
    "\n",
    "# test data\n",
    "train_y = diabetes.target[:-20][:, np.newaxis]\n",
    "test_y = diabetes.target[-20:][:, np.newaxis]\n",
    "\n",
    "# design model\n",
    "reg = linear_model.Lasso(alpha = 0.1)\n",
    "\n",
    "# estimate parameters\n",
    "reg.fit(train_X, train_y)\n"
   ]
  },
  {
   "cell_type": "code",
   "execution_count": 5,
   "metadata": {},
   "outputs": [],
   "source": [
    "alphas = np.linspace(1e-4, 5, 20)"
   ]
  },
  {
   "cell_type": "markdown",
   "metadata": {},
   "source": [
    "## What is gradient descent?"
   ]
  },
  {
   "cell_type": "markdown",
   "metadata": {},
   "source": [
    "Good reference\n",
    "\n",
    "http://ozzieliu.com/2016/02/09/gradient-descent-tutorial/"
   ]
  },
  {
   "cell_type": "code",
   "execution_count": 6,
   "metadata": {},
   "outputs": [],
   "source": [
    "# add a column of ones to solve for y-intercept (beta-naught)\n",
    "\n",
    "column_ones = np.ones((train_X.shape))\n",
    "train_X = np.hstack((column_ones, train_X))"
   ]
  },
  {
   "cell_type": "code",
   "execution_count": 7,
   "metadata": {},
   "outputs": [
    {
     "data": {
      "text/plain": [
       "(422, 2)"
      ]
     },
     "execution_count": 7,
     "metadata": {},
     "output_type": "execute_result"
    }
   ],
   "source": [
    "train_X.shape"
   ]
  },
  {
   "cell_type": "code",
   "execution_count": 8,
   "metadata": {},
   "outputs": [],
   "source": [
    "def loss_function(y_true, y_hat):\n",
    "    '''\n",
    "    Calculate the loss function J(beta) (in this case MSE) of some estimated parameters\n",
    "    under a Lasso Regression analysis.\n",
    "    \n",
    "    J(beta) = (1/2m) * sum((y - X * betas) ** 2)\n",
    "    \n",
    "    where the sum runs from 1 to the number of beta parameters (i.e. len(y))\n",
    "    '''\n",
    "    #m = len(y_true)\n",
    "    \n",
    "    # calculate residuals\n",
    "    residuals = y_true - y_hat\n",
    "\n",
    "    # calculate loss for param\n",
    "    loss =  np.mean(np.square(residuals)) / 2\n",
    "    \n",
    "    return loss"
   ]
  },
  {
   "cell_type": "code",
   "execution_count": 9,
   "metadata": {},
   "outputs": [],
   "source": [
    "def gradient_descent(X, y, learning_rate=0.1, tol=0.001, max_iter=int(1e5)):\n",
    "    '''\n",
    "    \n",
    "    '''\n",
    "    \n",
    "    # initialize\n",
    "    m = len(y)\n",
    "    loss_diff = 1\n",
    "    iter_ = 0\n",
    "    loss_history = np.empty(max_iter)\n",
    "    \n",
    "    # starting point for parameters\n",
    "    beta = np.array([[500],[500]])\n",
    "    beta_history = np.empty((max_iter, X.shape[1]))\n",
    "    beta_history[iter_, :] = beta[:,0]\n",
    "    \n",
    "    while (loss_diff > tol) and (iter_ < max_iter):\n",
    "        \n",
    "        # calculate residuals\n",
    "        y_hat = np.dot(X, beta)\n",
    "        res = y_hat - y\n",
    "        \n",
    "        # calculate next parameter estimate\n",
    "        gradient = np.dot(X.T, res) / m\n",
    "        beta = beta - learning_rate * gradient\n",
    "        \n",
    "        # calculate loss\n",
    "        y_hat = X.dot(beta) \n",
    "        loss = loss_function(y, y_hat)\n",
    "        \n",
    "        # update stop conditions\n",
    "        iter_ +=1\n",
    "        beta_history[iter_, :] = beta[:,0]\n",
    "        loss_history[iter_] = loss\n",
    "        loss_diff = abs(loss_history[iter_] - loss_history[iter_ - 1])\n",
    "        \n",
    "    return beta, loss_history[:iter_], iter_, beta_history[:iter_, :]"
   ]
  },
  {
   "cell_type": "code",
   "execution_count": 10,
   "metadata": {
    "scrolled": true
   },
   "outputs": [],
   "source": [
    "coef, loss_history, iters, beta_history = gradient_descent(train_X, train_y)"
   ]
  },
  {
   "cell_type": "code",
   "execution_count": 11,
   "metadata": {
    "scrolled": false
   },
   "outputs": [
    {
     "data": {
      "image/png": "[encoded data removed]",
      "text/plain": [
       "<Figure size 540x360 with 1 Axes>"
      ]
     },
     "metadata": {},
     "output_type": "display_data"
    }
   ],
   "source": [
    "plt.figure(dpi=90)\n",
    "plt.plot(beta_history[:,0], beta_history[:, 1], '--')\n",
    "plt.scatter(beta_history[0][0], beta_history[0][1], label='start')\n",
    "plt.scatter(beta_history[-1][0], beta_history[-1][1], label='end')\n",
    "plt.xlabel(r'$\\beta_o$')\n",
    "plt.ylabel(r'$\\beta_1$')\n",
    "plt.title(\"Path of Gradient\")\n",
    "plt.legend()\n",
    "plt.show()"
   ]
  },
  {
   "cell_type": "markdown",
   "metadata": {},
   "source": [
    "It appears the gradient finds the y-intercept, $\\beta_o$, quickly, but takes much longer to find the slope, $\\beta_1$."
   ]
  },
  {
   "cell_type": "markdown",
   "metadata": {},
   "source": [
    "## Model Comparison"
   ]
  },
  {
   "cell_type": "code",
   "execution_count": 12,
   "metadata": {
    "scrolled": true
   },
   "outputs": [
    {
     "data": {
      "text/plain": [
       "'%.3f'"
      ]
     },
     "execution_count": 12,
     "metadata": {},
     "output_type": "execute_result"
    }
   ],
   "source": [
    "%precision 3"
   ]
  },
  {
   "cell_type": "code",
   "execution_count": 13,
   "metadata": {},
   "outputs": [
    {
     "name": "stdout",
     "output_type": "stream",
     "text": [
      "Estimated coefficients\n",
      "\n",
      "Scikit-learn\t\t\t\tScratch Model\n",
      "(152.9397438303491, 894.080996097091)\t[152.94  894.095]\n"
     ]
    }
   ],
   "source": [
    "print('Estimated coefficients\\n')\n",
    "print(\"Scikit-learn\\t\\t\\t\\tScratch Model\")\n",
    "print(f'{reg.intercept_[0], reg.coef_[0]}\\t{coef[:,0]}')"
   ]
  },
  {
   "cell_type": "code",
   "execution_count": 14,
   "metadata": {
    "scrolled": false
   },
   "outputs": [
    {
     "data": {
      "image/png": "[encoded data removed]",
      "text/plain": [
       "<Figure size 540x360 with 1 Axes>"
      ]
     },
     "metadata": {},
     "output_type": "display_data"
    }
   ],
   "source": [
    "plt.figure(dpi=90)\n",
    "plt.plot(test_X, (coef[0] + test_X * coef[1]), label='scikit-learn model')\n",
    "plt.plot(test_X, (reg.intercept_ + test_X * reg.coef_), label='scratch GD model')\n",
    "plt.scatter(test_X, test_y, label='test data', alpha=0.4)\n",
    "plt.legend()\n",
    "plt.show()"
   ]
  },
  {
   "cell_type": "code",
   "execution_count": 15,
   "metadata": {
    "scrolled": true
   },
   "outputs": [
    {
     "name": "stdout",
     "output_type": "stream",
     "text": [
      "Iterations before converging:\n",
      "\n",
      "Scikit-learn\t\tScratch Model\n",
      "2\t\t\t10136\n"
     ]
    }
   ],
   "source": [
    "print('Iterations before converging:\\n')\n",
    "print(\"Scikit-learn\\t\\tScratch Model\")\n",
    "print(f'{reg.n_iter_}\\t\\t\\t{iters}')"
   ]
  },
  {
   "cell_type": "markdown",
   "metadata": {},
   "source": [
    "Scikit-learn's converges the optimal parameters rapidly in comparision to the scratch model."
   ]
  },
  {
   "cell_type": "code",
   "execution_count": null,
   "metadata": {},
   "outputs": [],
   "source": []
  },
  {
   "cell_type": "code",
   "execution_count": 16,
   "metadata": {
    "scrolled": false
   },
   "outputs": [
    {
     "data": {
      "image/png": "[encoded data removed]",
      "text/plain": [
       "<Figure size 540x360 with 1 Axes>"
      ]
     },
     "metadata": {},
     "output_type": "display_data"
    }
   ],
   "source": [
    "plt.figure(dpi=90)\n",
    "plt.plot(np.linspace(1, iters, iters -1), loss_history[1:iters+1], color='orange', label='Scratch GD Model')\n",
    "#plt.yscale(\"log\")\n",
    "plt.xscale(\"log\")\n",
    "\n",
    "plt.xlabel('iterations')\n",
    "plt.ylabel('loss')\n",
    "plt.title('Loss function (MSE)')\n",
    "plt.legend()\n",
    "plt.show()\n"
   ]
  },
  {
   "cell_type": "code",
   "execution_count": null,
   "metadata": {},
   "outputs": [],
   "source": []
  },
  {
   "cell_type": "code",
   "execution_count": null,
   "metadata": {},
   "outputs": [],
   "source": []
  }
 ],
 "metadata": {
  "kernelspec": {
   "display_name": "Python 3",
   "language": "python",
   "name": "python3"
  },
  "language_info": {
   "codemirror_mode": {
    "name": "ipython",
    "version": 3
   },
   "file_extension": ".py",
   "mimetype": "text/x-python",
   "name": "python",
   "nbconvert_exporter": "python",
   "pygments_lexer": "ipython3",
   "version": "3.6.3"
  }
 },
 "nbformat": 4,
 "nbformat_minor": 2
}
